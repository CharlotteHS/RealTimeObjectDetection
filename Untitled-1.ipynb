{
 "cells": [
  {
   "cell_type": "code",
   "execution_count": 1,
   "metadata": {},
   "outputs": [],
   "source": [
    "import cv2 #open cv\n",
    "import os\n",
    "import time\n",
    "import uuid"
   ]
  },
  {
   "cell_type": "code",
   "execution_count": 2,
   "metadata": {},
   "outputs": [],
   "source": [
    "IMAGES_PATH = 'Tensorflow/workspace/images/collectedimages'"
   ]
  },
  {
   "cell_type": "code",
   "execution_count": 3,
   "metadata": {},
   "outputs": [],
   "source": [
    "labels = ['hello', 'thanks', 'yes', 'no', 'ily']\n",
    "number_imgs = 15"
   ]
  },
  {
   "cell_type": "code",
   "execution_count": 4,
   "metadata": {},
   "outputs": [
    {
     "name": "stderr",
     "output_type": "stream",
     "text": [
      "A subdirectory or file Tensorflow\\workspace\\images\\collectedimages\\hello already exists.\n",
      "Error occurred while processing: Tensorflow\\workspace\\images\\collectedimages\\hello.\n",
      "A subdirectory or file # already exists.\n",
      "Error occurred while processing: #.\n",
      "A subdirectory or file creates already exists.\n",
      "Error occurred while processing: creates.\n",
      "A subdirectory or file seperate already exists.\n",
      "Error occurred while processing: seperate.\n",
      "A subdirectory or file folders already exists.\n",
      "Error occurred while processing: folders.\n",
      "A subdirectory or file for already exists.\n",
      "Error occurred while processing: for.\n",
      "A subdirectory or file each already exists.\n",
      "Error occurred while processing: each.\n"
     ]
    },
    {
     "name": "stdout",
     "output_type": "stream",
     "text": [
      "collecting images for hello\n"
     ]
    },
    {
     "name": "stderr",
     "output_type": "stream",
     "text": [
      "A subdirectory or file # already exists.\n",
      "Error occurred while processing: #.\n",
      "A subdirectory or file creates already exists.\n",
      "Error occurred while processing: creates.\n",
      "A subdirectory or file seperate already exists.\n",
      "Error occurred while processing: seperate.\n",
      "A subdirectory or file folders already exists.\n",
      "Error occurred while processing: folders.\n",
      "A subdirectory or file for already exists.\n",
      "Error occurred while processing: for.\n",
      "A subdirectory or file each already exists.\n",
      "Error occurred while processing: each.\n"
     ]
    },
    {
     "name": "stdout",
     "output_type": "stream",
     "text": [
      "collecting images for thanks\n"
     ]
    },
    {
     "name": "stderr",
     "output_type": "stream",
     "text": [
      "A subdirectory or file # already exists.\n",
      "Error occurred while processing: #.\n",
      "A subdirectory or file creates already exists.\n",
      "Error occurred while processing: creates.\n",
      "A subdirectory or file seperate already exists.\n",
      "Error occurred while processing: seperate.\n",
      "A subdirectory or file folders already exists.\n",
      "Error occurred while processing: folders.\n",
      "A subdirectory or file for already exists.\n",
      "Error occurred while processing: for.\n",
      "A subdirectory or file each already exists.\n",
      "Error occurred while processing: each.\n"
     ]
    },
    {
     "name": "stdout",
     "output_type": "stream",
     "text": [
      "collecting images for yes\n"
     ]
    },
    {
     "name": "stderr",
     "output_type": "stream",
     "text": [
      "A subdirectory or file # already exists.\n",
      "Error occurred while processing: #.\n",
      "A subdirectory or file creates already exists.\n",
      "Error occurred while processing: creates.\n",
      "A subdirectory or file seperate already exists.\n",
      "Error occurred while processing: seperate.\n",
      "A subdirectory or file folders already exists.\n",
      "Error occurred while processing: folders.\n",
      "A subdirectory or file for already exists.\n",
      "Error occurred while processing: for.\n",
      "A subdirectory or file each already exists.\n",
      "Error occurred while processing: each.\n"
     ]
    },
    {
     "name": "stdout",
     "output_type": "stream",
     "text": [
      "collecting images for no\n"
     ]
    },
    {
     "name": "stderr",
     "output_type": "stream",
     "text": [
      "A subdirectory or file # already exists.\n",
      "Error occurred while processing: #.\n",
      "A subdirectory or file creates already exists.\n",
      "Error occurred while processing: creates.\n",
      "A subdirectory or file seperate already exists.\n",
      "Error occurred while processing: seperate.\n",
      "A subdirectory or file folders already exists.\n",
      "Error occurred while processing: folders.\n",
      "A subdirectory or file for already exists.\n",
      "Error occurred while processing: for.\n",
      "A subdirectory or file each already exists.\n",
      "Error occurred while processing: each.\n"
     ]
    },
    {
     "name": "stdout",
     "output_type": "stream",
     "text": [
      "collecting images for ily\n"
     ]
    },
    {
     "ename": "",
     "evalue": "",
     "output_type": "error",
     "traceback": [
      "\u001b[1;31mThe Kernel crashed while executing code in the current cell or a previous cell. \n",
      "\u001b[1;31mPlease review the code in the cell(s) to identify a possible cause of the failure. \n",
      "\u001b[1;31mClick <a href='https://aka.ms/vscodeJupyterKernelCrash'>here</a> for more info. \n",
      "\u001b[1;31mView Jupyter <a href='command:jupyter.viewOutput'>log</a> for further details."
     ]
    }
   ],
   "source": [
    "for label in labels:\n",
    "    !mkdir {'Tensorflow\\workspace\\images\\collectedimages\\\\'+label} # creates seperate folders for each\n",
    "    cap = cv2.VideoCapture(0)\n",
    "    print('collecting images for {}'.format(label))\n",
    "    time.sleep(5)\n",
    "    for imgnum in range(number_imgs):\n",
    "        ret, frame = cap.read()\n",
    "        imgname = os.path.join(IMAGES_PATH, label, label+'.'+'{}.jpg'.format(str(uuid.uuid1()))) #making sure each folder has an individual name\n",
    "        cv2.imwrite(imgname, frame)\n",
    "        cv2.imshow('frame', frame)\n",
    "        time.sleep(2)\n",
    "\n",
    "        if cv2.waitKey(1) & 0xFF == ord('q'): #waitKey has a capital K :((\n",
    "            break\n",
    "    cap.release()"
   ]
  },
  {
   "cell_type": "code",
   "execution_count": null,
   "metadata": {},
   "outputs": [],
   "source": []
  }
 ],
 "metadata": {
  "kernelspec": {
   "display_name": "Python 3",
   "language": "python",
   "name": "python3"
  },
  "language_info": {
   "codemirror_mode": {
    "name": "ipython",
    "version": 3
   },
   "file_extension": ".py",
   "mimetype": "text/x-python",
   "name": "python",
   "nbconvert_exporter": "python",
   "pygments_lexer": "ipython3",
   "version": "3.11.9"
  }
 },
 "nbformat": 4,
 "nbformat_minor": 2
}
